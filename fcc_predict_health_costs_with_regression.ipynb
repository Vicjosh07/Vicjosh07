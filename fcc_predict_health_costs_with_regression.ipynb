{
  "cells": [
    {
      "cell_type": "code",
      "execution_count": null,
      "metadata": {
        "id": "1rRo8oNqZ-Rj"
      },
      "outputs": [],
      "source": [
        "# Import libraries. You may or may not use all of these.\n",
        "!pip install -q git+https://github.com/tensorflow/docs\n",
        "import matplotlib.pyplot as plt\n",
        "import numpy as np\n",
        "import pandas as pd\n",
        "\n",
        "try:\n",
        "  # %tensorflow_version only exists in Colab.\n",
        "  %tensorflow_version 2.x\n",
        "except Exception:\n",
        "  pass\n",
        "import tensorflow as tf\n",
        "\n",
        "from tensorflow import keras\n",
        "from tensorflow.keras import layers\n",
        "\n",
        "import tensorflow_docs as tfdocs\n",
        "import tensorflow_docs.plots\n",
        "import tensorflow_docs.modeling"
      ]
    },
    {
      "cell_type": "code",
      "source": [
        "# preprocessing\n",
        "from sklearn.model_selection import train_test_split\n",
        "from sklearn.preprocessing import StandardScaler\n",
        "\n",
        "# importing aliases for Torch\n",
        "import torch as t\n",
        "from torch.nn import functional, Sequential\n",
        "from torch.utils.data import TensorDataset, DataLoader\n",
        "import torch.optim as optim"
      ],
      "metadata": {
        "id": "GhDQpqDQIrkK"
      },
      "execution_count": null,
      "outputs": []
    },
    {
      "cell_type": "code",
      "execution_count": null,
      "metadata": {
        "id": "CiX2FI4gZtTt"
      },
      "outputs": [],
      "source": [
        "# # Import data\n",
        "# !wget https://cdn.freecodecamp.org/project-data/health-costs/insurance.csv\n",
        "# dataset = pd.read_csv('insurance.csv')\n",
        "# dataset.tail()\n",
        "dataset.info()"
      ]
    },
    {
      "cell_type": "markdown",
      "source": [
        "## Quick info and preprocessing on the categoricals\n",
        "### Feature Engineering\n",
        "- in col 'sex' change male to 1, female to 0\n",
        "- in col 'smoker' change yes to 1 and no 0\n",
        "- perform numeric encoding to region col\n",
        "\n",
        "### Split the Dataset\n",
        "\n",
        "### Scale the BMI and AGE feature"
      ],
      "metadata": {
        "id": "02swnmXvNRFy"
      }
    },
    {
      "cell_type": "code",
      "execution_count": null,
      "metadata": {
        "id": "LcopvQh3X-kX"
      },
      "outputs": [],
      "source": [
        "# for col in dataset.select_dtypes(exclude=['number']).columns:\n",
        "#   print(f'Column \"{col}\" has -> {dataset[col].nunique()} uniques:\\n{dataset[col].value_counts()}')\n",
        "\n",
        "dataset['sex'] = dataset['sex'].apply(lambda x: float(x == 'male'))\n",
        "# or dataset['sex'] = (dataset['sex'] == 'male').astype(float)\n",
        "\n",
        "dataset['smoker'] = dataset['smoker'].apply(lambda x: float(x == 'yes'))\n",
        "\n",
        "dataset = pd.get_dummies(dataset, columns=[\"region\"], drop_first=False).astype(float)"
      ]
    },
    {
      "cell_type": "code",
      "source": [
        "# # dataset.head()\n",
        "X = dataset.copy()\n",
        "y = X.pop('expenses')\n",
        "train_dataset, test_dataset, train_labels, test_labels = train_test_split(X, y, train_size=0.8, random_state=42)\n",
        "\n",
        "# print(f'Data shape: {dataset.shape}\\t train shape: {train_dataset.shape}\\t test shape: {test_dataset.shape}')"
      ],
      "metadata": {
        "id": "D5QyMF9MPbrM"
      },
      "execution_count": null,
      "outputs": []
    },
    {
      "cell_type": "code",
      "source": [
        "scaler = StandardScaler()\n",
        "train_dataset = scaler.fit_transform(train_dataset)\n",
        "test_dataset = scaler.transform(test_dataset)"
      ],
      "metadata": {
        "id": "XxBFgLdCSe6S"
      },
      "execution_count": null,
      "outputs": []
    },
    {
      "cell_type": "markdown",
      "source": [
        "## Loading Essentials for NN\n",
        "- Converting the features arrays to Torch"
      ],
      "metadata": {
        "id": "KVFvqA_bS3bQ"
      }
    },
    {
      "cell_type": "code",
      "source": [],
      "metadata": {
        "id": "NdI-C4TyS2CI"
      },
      "execution_count": null,
      "outputs": []
    },
    {
      "cell_type": "code",
      "execution_count": null,
      "metadata": {
        "id": "Xe7RXH3N3CWU"
      },
      "outputs": [],
      "source": [
        "# RUN THIS CELL TO TEST YOUR MODEL. DO NOT MODIFY CONTENTS.\n",
        "# Test model by checking how well the model generalizes using the test set.\n",
        "loss, mae, mse = model.evaluate(test_dataset, test_labels, verbose=2)\n",
        "\n",
        "print(\"Testing set Mean Abs Error: {:5.2f} expenses\".format(mae))\n",
        "\n",
        "if mae < 3500:\n",
        "  print(\"You passed the challenge. Great job!\")\n",
        "else:\n",
        "  print(\"The Mean Abs Error must be less than 3500. Keep trying.\")\n",
        "\n",
        "# Plot predictions.\n",
        "test_predictions = model.predict(test_dataset).flatten()\n",
        "\n",
        "a = plt.axes(aspect='equal')\n",
        "plt.scatter(test_labels, test_predictions)\n",
        "plt.xlabel('True values (expenses)')\n",
        "plt.ylabel('Predictions (expenses)')\n",
        "lims = [0, 50000]\n",
        "plt.xlim(lims)\n",
        "plt.ylim(lims)\n",
        "_ = plt.plot(lims,lims)\n"
      ]
    }
  ],
  "metadata": {
    "colab": {
      "name": "fcc_predict_health_costs_with_regression.ipynb",
      "private_outputs": true,
      "provenance": [],
      "toc_visible": true
    },
    "kernelspec": {
      "display_name": "Python 3",
      "name": "python3"
    }
  },
  "nbformat": 4,
  "nbformat_minor": 0
}